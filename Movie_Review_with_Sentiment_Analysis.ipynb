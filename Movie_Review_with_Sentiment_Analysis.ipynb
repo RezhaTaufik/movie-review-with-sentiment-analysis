{
  "nbformat": 4,
  "nbformat_minor": 0,
  "metadata": {
    "colab": {
      "provenance": [],
      "authorship_tag": "ABX9TyOf51SerO3F4qxkNIZGAMzm"
    },
    "kernelspec": {
      "name": "python3",
      "display_name": "Python 3"
    },
    "language_info": {
      "name": "python"
    }
  },
  "cells": [
    {
      "cell_type": "code",
      "execution_count": 4,
      "metadata": {
        "id": "RjcXwfoOxhIq"
      },
      "outputs": [],
      "source": [
        "import tensorflow as tf\n",
        "import os\n",
        "import numpy as np\n",
        "from tensorflow import keras\n",
        "from keras.datasets import imdb\n",
        "from keras.preprocessing import sequence\n",
        "from keras_preprocessing.sequence import pad_sequences\n",
        "from keras.utils import pad_sequences\n",
        "\n",
        "\n",
        "VOCAB_SIZE = 88584\n",
        "MAXLEN = 250\n",
        "BATCH_SIZE = 64\n",
        "\n",
        "(train_data, train_labels), (test_data, test_labels) = imdb.load_data(num_words = VOCAB_SIZE)"
      ]
    },
    {
      "cell_type": "code",
      "source": [
        "train_data = keras.utils.pad_sequences(train_data, MAXLEN) # Apabila ada review yang lebih dari 250 kata, maka kata yang berlebih akan dihapus \n",
        "test_data = keras.utils.pad_sequences(test_data, MAXLEN) # Apabila ada review yang kurang dari 250 kata, tambahkan 0 hingga sampai 250\n",
        "train_data[9]"
      ],
      "metadata": {
        "colab": {
          "base_uri": "https://localhost:8080/"
        },
        "id": "cbATznynxjsq",
        "outputId": "4edfcce4-96fa-4470-e177-0f6d06ab8bf1"
      },
      "execution_count": 5,
      "outputs": [
        {
          "output_type": "execute_result",
          "data": {
            "text/plain": [
              "array([    0,     0,     0,     0,     0,     0,     0,     0,     0,\n",
              "           0,     0,     0,     0,     0,     0,     0,     0,     0,\n",
              "           0,     0,     0,     0,     0,     0,     0,     0,     0,\n",
              "           0,     0,     0,     0,     0,     0,     0,     0,     0,\n",
              "           0,     0,     0,     0,     0,     0,     0,     0,     0,\n",
              "           0,     0,     0,     0,     0,     0,     0,     0,     0,\n",
              "           0,     0,     0,     0,     0,     0,     0,     0,     0,\n",
              "           0,     0,     0,     0,     0,     0,     0,     0,     0,\n",
              "           0,     0,     0,     0,     0,     0,     0,     0,     0,\n",
              "           0,     0,     0,     0,     0,     0,     0,     0,     0,\n",
              "           0,     0,     0,     0,     0,     0,     0,     0,     0,\n",
              "           0,     0,     0,     0,     0,     0,     0,     0,     0,\n",
              "           0,     0,     0,     0,     0,     0,     0,     0,     0,\n",
              "           0,     0,     0,     1,    14,    20,    47,   111,   439,\n",
              "        3445,    19,    12,    15,   166,    12,   216,   125,    40,\n",
              "           6,   364,   352,   707,  1187,    39,   294,    11,    22,\n",
              "         396,    13,    28,     8,   202,    12,  1109,    23,    94,\n",
              "       15201,   151,   111,   211,   469,     4,    20,    13,   258,\n",
              "         546,  1104,  7273,    12,    16,    38,    78,    33,   211,\n",
              "          15,    12,    16,  2849,    63,    93,    12,     6,   253,\n",
              "         106,    10,    10,    48,   335,   267,    18,     6,   364,\n",
              "        1242,  1179,    20,    19,     6,  1009,     7,  1987,   189,\n",
              "           5,     6,  8419,     7,  2723, 13209,    95,  1719,     6,\n",
              "        6035,     7,  3912,  7144,    49,   369,   120,     5,    28,\n",
              "          49,   253,    10,    10,    13,  1041,    19,    85,   795,\n",
              "          15,     4,   481,     9,    55,    78,   807,     9,   375,\n",
              "           8,  1167,     8,   794,    76,     7,     4,    58,     5,\n",
              "           4,   816,     9,   243,     7,    43,    50], dtype=int32)"
            ]
          },
          "metadata": {},
          "execution_count": 5
        }
      ]
    },
    {
      "cell_type": "markdown",
      "source": [
        "**Membuat Model**"
      ],
      "metadata": {
        "id": "y6E3ATROxnDp"
      }
    },
    {
      "cell_type": "code",
      "source": [
        "model = tf.keras.Sequential(\n",
        "    [\n",
        "        tf.keras.layers.Embedding(VOCAB_SIZE, 32),\n",
        "        tf.keras.layers.LSTM(32),\n",
        "        tf.keras.layers.Dense(1, activation = 'sigmoid')\n",
        "    ]\n",
        ")"
      ],
      "metadata": {
        "id": "Ls0J8LnDxo9b"
      },
      "execution_count": 6,
      "outputs": []
    },
    {
      "cell_type": "code",
      "source": [
        "model.summary()"
      ],
      "metadata": {
        "colab": {
          "base_uri": "https://localhost:8080/"
        },
        "id": "ia4jWkrjxrD4",
        "outputId": "51aa2b92-6c65-49a9-b7d7-66258be72215"
      },
      "execution_count": 7,
      "outputs": [
        {
          "output_type": "stream",
          "name": "stdout",
          "text": [
            "Model: \"sequential\"\n",
            "_________________________________________________________________\n",
            " Layer (type)                Output Shape              Param #   \n",
            "=================================================================\n",
            " embedding (Embedding)       (None, None, 32)          2834688   \n",
            "                                                                 \n",
            " lstm (LSTM)                 (None, 32)                8320      \n",
            "                                                                 \n",
            " dense (Dense)               (None, 1)                 33        \n",
            "                                                                 \n",
            "=================================================================\n",
            "Total params: 2,843,041\n",
            "Trainable params: 2,843,041\n",
            "Non-trainable params: 0\n",
            "_________________________________________________________________\n"
          ]
        }
      ]
    },
    {
      "cell_type": "markdown",
      "source": [
        "**Training**"
      ],
      "metadata": {
        "id": "K8uQRHaCxubB"
      }
    },
    {
      "cell_type": "code",
      "source": [
        "model.compile(loss=\"binary_crossentropy\", optimizer = \"rmsprop\", metrics = ['acc']) # Binary Cross Entropy digunakan untuk melihat output kita sejauh mana apakah 0 atau 1\n",
        "history = model.fit(train_data, train_labels, epochs = 10, validation_split=0.2) # Validation split berarti kita akan menggunakan 20% data saja "
      ],
      "metadata": {
        "colab": {
          "base_uri": "https://localhost:8080/"
        },
        "id": "s2zqhddAxwuh",
        "outputId": "d5f925ce-492e-41c6-a70c-b0e64cb63cfd"
      },
      "execution_count": 8,
      "outputs": [
        {
          "output_type": "stream",
          "name": "stdout",
          "text": [
            "Epoch 1/10\n",
            "625/625 [==============================] - 62s 95ms/step - loss: 0.4395 - acc: 0.7918 - val_loss: 0.3136 - val_acc: 0.8674\n",
            "Epoch 2/10\n",
            "625/625 [==============================] - 56s 90ms/step - loss: 0.2455 - acc: 0.9082 - val_loss: 0.2832 - val_acc: 0.8924\n",
            "Epoch 3/10\n",
            "625/625 [==============================] - 56s 90ms/step - loss: 0.1851 - acc: 0.9312 - val_loss: 0.2959 - val_acc: 0.8886\n",
            "Epoch 4/10\n",
            "625/625 [==============================] - 59s 95ms/step - loss: 0.1565 - acc: 0.9450 - val_loss: 0.2812 - val_acc: 0.8958\n",
            "Epoch 5/10\n",
            "625/625 [==============================] - 58s 93ms/step - loss: 0.1316 - acc: 0.9551 - val_loss: 0.2893 - val_acc: 0.8798\n",
            "Epoch 6/10\n",
            "625/625 [==============================] - 57s 91ms/step - loss: 0.1149 - acc: 0.9614 - val_loss: 0.3121 - val_acc: 0.8928\n",
            "Epoch 7/10\n",
            "625/625 [==============================] - 57s 91ms/step - loss: 0.0988 - acc: 0.9668 - val_loss: 0.3457 - val_acc: 0.8914\n",
            "Epoch 8/10\n",
            "625/625 [==============================] - 57s 91ms/step - loss: 0.0886 - acc: 0.9712 - val_loss: 0.3961 - val_acc: 0.8806\n",
            "Epoch 9/10\n",
            "625/625 [==============================] - 58s 93ms/step - loss: 0.0792 - acc: 0.9735 - val_loss: 0.4074 - val_acc: 0.8744\n",
            "Epoch 10/10\n",
            "625/625 [==============================] - 58s 93ms/step - loss: 0.0711 - acc: 0.9777 - val_loss: 0.5695 - val_acc: 0.8518\n"
          ]
        }
      ]
    },
    {
      "cell_type": "code",
      "source": [
        "hasil = model.evaluate(test_data, test_labels) # 80%\n",
        "print(hasil)"
      ],
      "metadata": {
        "colab": {
          "base_uri": "https://localhost:8080/"
        },
        "id": "g5pyXZqM73R7",
        "outputId": "0629eff7-630b-4d53-d3af-998965936c32"
      },
      "execution_count": 9,
      "outputs": [
        {
          "output_type": "stream",
          "name": "stdout",
          "text": [
            "782/782 [==============================] - 19s 24ms/step - loss: 0.7779 - acc: 0.8043\n",
            "[0.7779424786567688, 0.8042799830436707]\n"
          ]
        }
      ]
    },
    {
      "cell_type": "markdown",
      "source": [
        "**Prediksi**"
      ],
      "metadata": {
        "id": "nsh9UYi58SCF"
      }
    },
    {
      "cell_type": "code",
      "source": [
        "word_index = imdb.get_word_index()\n",
        "\n",
        "def encode_text(kata):\n",
        "  tokens = keras.preprocessing.text.text_to_word_sequence(kata)\n",
        "  tokens = [word_index[word] if word in word_index else 0 for word in tokens]\n",
        "  return keras.utils.pad_sequences([tokens], MAXLEN)[0]\n",
        "\n",
        "kata = \"that movie was just amazing, so amazing\"\n",
        "encoded = encode_text(kata)\n",
        "print(encoded)"
      ],
      "metadata": {
        "colab": {
          "base_uri": "https://localhost:8080/"
        },
        "id": "MZgxDwGv8T8u",
        "outputId": "d287cb33-c2ff-49e4-90a9-c99eac9b5e02"
      },
      "execution_count": 11,
      "outputs": [
        {
          "output_type": "stream",
          "name": "stdout",
          "text": [
            "[  0   0   0   0   0   0   0   0   0   0   0   0   0   0   0   0   0   0\n",
            "   0   0   0   0   0   0   0   0   0   0   0   0   0   0   0   0   0   0\n",
            "   0   0   0   0   0   0   0   0   0   0   0   0   0   0   0   0   0   0\n",
            "   0   0   0   0   0   0   0   0   0   0   0   0   0   0   0   0   0   0\n",
            "   0   0   0   0   0   0   0   0   0   0   0   0   0   0   0   0   0   0\n",
            "   0   0   0   0   0   0   0   0   0   0   0   0   0   0   0   0   0   0\n",
            "   0   0   0   0   0   0   0   0   0   0   0   0   0   0   0   0   0   0\n",
            "   0   0   0   0   0   0   0   0   0   0   0   0   0   0   0   0   0   0\n",
            "   0   0   0   0   0   0   0   0   0   0   0   0   0   0   0   0   0   0\n",
            "   0   0   0   0   0   0   0   0   0   0   0   0   0   0   0   0   0   0\n",
            "   0   0   0   0   0   0   0   0   0   0   0   0   0   0   0   0   0   0\n",
            "   0   0   0   0   0   0   0   0   0   0   0   0   0   0   0   0   0   0\n",
            "   0   0   0   0   0   0   0   0   0   0   0   0   0   0   0   0   0   0\n",
            "   0   0   0   0   0   0   0   0   0  12  17  13  40 477  35 477]\n"
          ]
        }
      ]
    },
    {
      "cell_type": "code",
      "source": [
        "# mengubah angka menjadi kalimat sesuai inputan diatas\n",
        "\n",
        "reverse = {value: key for (key,value) in word_index.items()}\n",
        "\n",
        "def decode_integers(integers):\n",
        "  pad = 0 \n",
        "  kata = \"\"\n",
        "  for num in integers:\n",
        "    if num != pad:\n",
        "      kata += reverse[num] + \" \"\n",
        "  return kata[:-1]\n",
        "\n",
        "print(decode_integers(encoded))"
      ],
      "metadata": {
        "colab": {
          "base_uri": "https://localhost:8080/"
        },
        "id": "SkEs2AiJ9Scs",
        "outputId": "8a4a856a-aeab-4ee3-e63e-0e43ec9e3188"
      },
      "execution_count": 16,
      "outputs": [
        {
          "output_type": "stream",
          "name": "stdout",
          "text": [
            "that movie was just amazing so amazing\n"
          ]
        }
      ]
    },
    {
      "cell_type": "code",
      "source": [
        "def predict(kata):\n",
        "  encoded_text = encode_text(kata)\n",
        "  pred =np.zeros((1,250))\n",
        "  pred[0] = encoded_text\n",
        "  hasil = model.predict(pred)\n",
        "  print(hasil[0])\n",
        "\n",
        "review_positif = \"that movie was awesome, i enjoyed it very much, really recommended\"\n",
        "predict(review_positif)\n",
        "\n",
        "review_negatif = \"that movie was terrible, i wasted my time watching it, should have just watched something else\"\n",
        "predict(review_negatif)"
      ],
      "metadata": {
        "colab": {
          "base_uri": "https://localhost:8080/"
        },
        "id": "TRHdcfwv_LFL",
        "outputId": "a73f9865-c706-44dd-869c-dbb65bf80de7"
      },
      "execution_count": 17,
      "outputs": [
        {
          "output_type": "stream",
          "name": "stdout",
          "text": [
            "1/1 [==============================] - 1s 549ms/step\n",
            "[0.7454071]\n",
            "1/1 [==============================] - 0s 27ms/step\n",
            "[0.5135381]\n"
          ]
        }
      ]
    }
  ]
}